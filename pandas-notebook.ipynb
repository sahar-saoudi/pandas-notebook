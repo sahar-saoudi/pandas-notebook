{
 "cells": [
  {
   "cell_type": "markdown",
   "metadata": {},
   "source": [
    "# Introduction to Pandas\n",
    "\n",
    "In this notebook, I added basic ways to use the Pandas library.\n",
    "\n",
    "For context, Pandas is a powerful open-source data manipulation and analysis library for Python, providing easy-to-use data structures and functions essential for working with structured data, such as tables and time series. "
   ]
  },
  {
   "cell_type": "markdown",
   "metadata": {},
   "source": [
    "## Importing the necessary libraries \n",
    "We should always start by importing the libraries we need to make our porgram work.\n",
    "\n",
    "In this notebook we'll just use the pandas library so we can type ```import pandas``` ."
   ]
  },
  {
   "cell_type": "code",
   "execution_count": 1,
   "metadata": {},
   "outputs": [],
   "source": [
    "import pandas as pd"
   ]
  },
  {
   "cell_type": "markdown",
   "metadata": {},
   "source": [
    "\n",
    "### Creation of a dataframe\n",
    "\n",
    "We can create a dataframe with pandas from a dictionary :\n",
    "\n",
    "Notice how different types (int, str, bool, etc..) can be added to the same dataframe"
   ]
  },
  {
   "cell_type": "code",
   "execution_count": 2,
   "metadata": {},
   "outputs": [
    {
     "name": "stdout",
     "output_type": "stream",
     "text": [
      "    key1  key2 key3\n",
      "0      1  3.14    a\n",
      "1      2  5.30    b\n",
      "2  three  6.20   10\n"
     ]
    }
   ],
   "source": [
    "# Creation of a DataFrame from a dictionary\n",
    "data = { # our dictionary\n",
    "    'key1' : [1, 2 ,'three'],\n",
    "    'key2' : [3.14, 5.3 , 6.2],\n",
    "    'key3' : ['a', 'b', 10]\n",
    "    }\n",
    "df = pd.DataFrame(data)  # our data frame created from this data\n",
    "\n",
    "# printing ur dataframe\n",
    "print(df)"
   ]
  },
  {
   "cell_type": "markdown",
   "metadata": {},
   "source": [
    "We can access the lines or columns in our dataframe and manipulate them. For example we can print the first two lines of our dataframe:"
   ]
  },
  {
   "cell_type": "code",
   "execution_count": 3,
   "metadata": {},
   "outputs": [
    {
     "name": "stdout",
     "output_type": "stream",
     "text": [
      "  key1  key2 key3\n",
      "0    1  3.14    a\n",
      "1    2  5.30    b\n"
     ]
    }
   ],
   "source": [
    "# showing the first 2 lines of our dataframe:\n",
    "print(df.head(2))"
   ]
  },
  {
   "cell_type": "markdown",
   "metadata": {},
   "source": [
    "\n",
    "### Indexing and selecting data\n",
    "\n",
    "We can show the column that's associated with key 2 of our data frame :"
   ]
  },
  {
   "cell_type": "code",
   "execution_count": 4,
   "metadata": {},
   "outputs": [
    {
     "name": "stdout",
     "output_type": "stream",
     "text": [
      "0    3.14\n",
      "1    5.30\n",
      "2    6.20\n",
      "Name: key2, dtype: float64\n"
     ]
    }
   ],
   "source": [
    "# selecting the column associated with key2\n",
    "col = df['key2']\n",
    "\n",
    "#printing the column\n",
    "print(col)"
   ]
  },
  {
   "cell_type": "markdown",
   "metadata": {},
   "source": [
    "Here's also a way to select a line of our dataframe. In this example we selected the first line :"
   ]
  },
  {
   "cell_type": "code",
   "execution_count": 5,
   "metadata": {},
   "outputs": [
    {
     "name": "stdout",
     "output_type": "stream",
     "text": [
      "key1       1\n",
      "key2    3.14\n",
      "key3       a\n",
      "Name: 0, dtype: object\n"
     ]
    }
   ],
   "source": [
    "# selecting a line\n",
    "line = df.iloc[0]\n",
    "\n",
    "# printing the line\n",
    "print(line)"
   ]
  },
  {
   "cell_type": "markdown",
   "metadata": {},
   "source": [
    "We can also select only one cell of our data frame :"
   ]
  },
  {
   "cell_type": "code",
   "execution_count": 6,
   "metadata": {},
   "outputs": [
    {
     "name": "stdout",
     "output_type": "stream",
     "text": [
      "three\n"
     ]
    }
   ],
   "source": [
    "# selecting a specific cell\n",
    "cell = df.at[2 , 'key1']\n",
    "\n",
    "# printing this cell\n",
    "print(cell)"
   ]
  },
  {
   "cell_type": "markdown",
   "metadata": {},
   "source": [
    "\n",
    "### Analyzing and modifying a dataframe\n",
    "\n",
    "We can for example add a column to our dataframe :\n"
   ]
  },
  {
   "cell_type": "code",
   "execution_count": 7,
   "metadata": {},
   "outputs": [
    {
     "name": "stdout",
     "output_type": "stream",
     "text": [
      "    key1  key2 key3  key4\n",
      "0      1  3.14    a     x\n",
      "1      2  5.30    b     9\n",
      "2  three  6.20   10  True\n"
     ]
    }
   ],
   "source": [
    "# adding a new column to df and printing everything\n",
    "key4 =['x', 9, True]\n",
    "df['key4']=key4\n",
    "print(df)"
   ]
  },
  {
   "cell_type": "markdown",
   "metadata": {},
   "source": [
    "### Exportation to a CSV file\n",
    "\n",
    "We cal also export our dataframe vto a CSV file :"
   ]
  },
  {
   "cell_type": "code",
   "execution_count": 8,
   "metadata": {},
   "outputs": [],
   "source": [
    "# Exporting df as a CSV file\n",
    "df.to_csv('pd.csv', index=False)"
   ]
  }
 ],
 "metadata": {
  "kernelspec": {
   "display_name": "hack",
   "language": "python",
   "name": "python3"
  },
  "language_info": {
   "codemirror_mode": {
    "name": "ipython",
    "version": 3
   },
   "file_extension": ".py",
   "mimetype": "text/x-python",
   "name": "python",
   "nbconvert_exporter": "python",
   "pygments_lexer": "ipython3",
   "version": "3.8.2"
  }
 },
 "nbformat": 4,
 "nbformat_minor": 2
}
